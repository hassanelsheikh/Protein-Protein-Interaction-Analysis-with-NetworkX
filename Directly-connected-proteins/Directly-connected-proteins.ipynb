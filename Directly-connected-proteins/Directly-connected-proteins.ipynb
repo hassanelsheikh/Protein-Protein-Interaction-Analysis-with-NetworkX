{
 "cells": [
  {
   "cell_type": "code",
   "execution_count": 4,
   "metadata": {},
   "outputs": [],
   "source": [
    "import matplotlib.pyplot as plt \n",
    "import numpy as np\n"
   ]
  },
  {
   "cell_type": "code",
   "execution_count": 5,
   "metadata": {},
   "outputs": [],
   "source": [
    "def parse_interactome(file_path):\n",
    "    interactome_data = {}\n",
    "    with open(file_path, 'r') as file:\n",
    "        next(file)  # Skip the header line\n",
    "        for line in file:\n",
    "            tail, head, edge_weight, _ = line.strip().split('\\t')\n",
    "            edge_weight = float(edge_weight)\n",
    "            if tail not in interactome_data:\n",
    "                interactome_data[tail] = []\n",
    "            interactome_data[tail].append((head, edge_weight))\n",
    "    return interactome_data"
   ]
  },
  {
   "cell_type": "code",
   "execution_count": 6,
   "metadata": {},
   "outputs": [],
   "source": [
    "def list_connected_proteins(file_path, protein):\n",
    "    interactome_data = parse_interactome(file_path)\n",
    "    connected_proteins = interactome_data.get(protein, [])\n",
    "    with open(f\"{protein}_connected_proteins.txt\", 'w') as output_file:\n",
    "        # degree of protein: number of connections\n",
    "        output_file.write(f\"Degree of {protein}: {len(connected_proteins)}\\n\")\n",
    "        for connected_protein, weight in connected_proteins:\n",
    "            output_file.write(f\"{connected_protein}\\t{weight}\\n\")"
   ]
  },
  {
   "cell_type": "code",
   "execution_count": 8,
   "metadata": {},
   "outputs": [],
   "source": [
    "# Main code\n",
    "file_path = \"PathLinker_2018_human-ppi-weighted-cap0_75.txt\"\n",
    "protein_of_interest = \"Q8TBF4\"\n",
    "interactome_data = parse_interactome(file_path) \n",
    "list_connected_proteins (file_path, protein_of_interest)"
   ]
  }
 ],
 "metadata": {
  "kernelspec": {
   "display_name": "Python 3",
   "language": "python",
   "name": "python3"
  },
  "language_info": {
   "codemirror_mode": {
    "name": "ipython",
    "version": 3
   },
   "file_extension": ".py",
   "mimetype": "text/x-python",
   "name": "python",
   "nbconvert_exporter": "python",
   "pygments_lexer": "ipython3",
   "version": "3.11.4"
  }
 },
 "nbformat": 4,
 "nbformat_minor": 2
}
