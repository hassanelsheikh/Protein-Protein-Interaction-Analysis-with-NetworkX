{
 "cells": [
  {
   "cell_type": "code",
   "execution_count": 19,
   "metadata": {},
   "outputs": [],
   "source": [
    "import matplotlib.pyplot as plt \n",
    "import numpy as np\n",
    "from Bio import Entrez\n",
    "from bioservices import UniProt \n",
    "import networkx as nx \n"
   ]
  },
  {
   "cell_type": "code",
   "execution_count": 20,
   "metadata": {},
   "outputs": [],
   "source": [
    "def parse_interactome(file_path):\n",
    "    interactome_data = {}\n",
    "    with open(file_path, 'r') as file:\n",
    "        next(file)  # Skip the header line\n",
    "        for line in file:\n",
    "            tail, head, edge_weight, _ = line.strip().split('\\t')\n",
    "            edge_weight = float(edge_weight)\n",
    "            if tail not in interactome_data:\n",
    "                interactome_data[tail] = []\n",
    "            interactome_data[tail].append((head, edge_weight))\n",
    "    return interactome_data"
   ]
  },
  {
   "cell_type": "code",
   "execution_count": 21,
   "metadata": {},
   "outputs": [],
   "source": [
    "def list_connected_proteins(file_path, protein):\n",
    "    interactome_data = parse_interactome(file_path)\n",
    "    connected_proteins = interactome_data.get(protein, [])\n",
    "    with open(f\"{protein}_connected_proteins.txt\", 'w') as output_file:\n",
    "        # degree of protein: number of connections\n",
    "        output_file.write(f\"Degree of {protein}: {len(connected_proteins)}\\n\")\n",
    "        for connected_protein, weight in connected_proteins:\n",
    "            output_file.write(f\"{connected_protein}\\t{weight}\\n\")"
   ]
  },
  {
   "cell_type": "code",
   "execution_count": 22,
   "metadata": {},
   "outputs": [],
   "source": [
    "def get_gene_name_from_uniprot(uniprot_ids):\n",
    "    Entrez.email = \"asmaa.abdelhamid02@eng-st.cu.edu.eg\"  \n",
    "    gene_names = {}\n",
    "    for uniprot_id in uniprot_ids:\n",
    "        handle = Entrez.efetch(db=\"protein\", id=uniprot_id, rettype=\"fasta\", retmode=\"text\")\n",
    "        fasta_record = handle.read()\n",
    "        handle.close()\n",
    "        # Split the header line by \"|\" and take the second component\n",
    "        gene_name = fasta_record.split(\"|\")[2]\n",
    "        # Extract only the gene name portion by splitting with a space and taking the first part\n",
    "        gene_name = gene_name.split(\" \")[0]\n",
    "        gene_names[uniprot_id] = gene_name\n",
    "    return gene_names\n"
   ]
  },
  {
   "cell_type": "code",
   "execution_count": 23,
   "metadata": {},
   "outputs": [],
   "source": [
    "def get_all_gene_names_from_interactome(file_path, limit=150):\n",
    "    unique_proteins = set()\n",
    "    with open(file_path, 'r') as file:\n",
    "        next(file)  # Skip the header line\n",
    "        for line in file:\n",
    "            tail, head, edge_weight, _ = line.strip().split('\\t')\n",
    "            unique_proteins.add(tail)\n",
    "            unique_proteins.add(head)\n",
    "            if len(unique_proteins) >= limit:\n",
    "                break\n",
    "    \n",
    "    unique_proteins = list(unique_proteins)  # Convert to list to pass to get_gene_name_from_uniprot function\n",
    "    gene_names = get_gene_name_from_uniprot(unique_proteins)\n",
    "    \n",
    "    with open(\"first_150_gene_names.txt\", 'w') as output_file:\n",
    "        for uniprot_id, gene_name in gene_names.items():\n",
    "            output_file.write(f\"{uniprot_id}\\t{gene_name}\\n\")\n",
    "    \n",
    "    return gene_names"
   ]
  },
  {
   "cell_type": "code",
   "execution_count": 24,
   "metadata": {},
   "outputs": [],
   "source": [
    "\n",
    "# Main code\n",
    "file_path = \"PathLinker_2018_human-ppi-weighted-cap0_75.txt\"\n",
    "# UniProt_ID = \"P05067\"\n",
    "# UniProt_ID = [\"P05067\", \"Q8TBF4\"]\n",
    "interactome_data = parse_interactome(file_path) \n",
    "# list_connected_proteins (file_path, UniProt_ID)\n",
    "# gene_name = get_gene_name_from_uniprot(UniProt_ID)\n",
    "all_gene_names = get_all_gene_names_from_interactome(file_path)\n",
    "# for uniprot_id, gene_name in gene_name.items():\n",
    "  # print(f\"Gene name for {uniprot_id}: {gene_name}\")\n",
    "\n"
   ]
  }
 ],
 "metadata": {
  "kernelspec": {
   "display_name": "Python 3",
   "language": "python",
   "name": "python3"
  },
  "language_info": {
   "codemirror_mode": {
    "name": "ipython",
    "version": 3
   },
   "file_extension": ".py",
   "mimetype": "text/x-python",
   "name": "python",
   "nbconvert_exporter": "python",
   "pygments_lexer": "ipython3",
   "version": "3.11.4"
  }
 },
 "nbformat": 4,
 "nbformat_minor": 2
}
