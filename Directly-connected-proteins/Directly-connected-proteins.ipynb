{
 "cells": [
  {
   "cell_type": "code",
   "execution_count": 266,
   "metadata": {},
   "outputs": [],
   "source": [
    "import matplotlib.pyplot as plt \n",
    "import numpy as np\n",
    "from Bio import Entrez\n",
    "from bioservices import UniProt \n",
    "import networkx as nx \n"
   ]
  },
  {
   "cell_type": "code",
   "execution_count": 267,
   "metadata": {},
   "outputs": [],
   "source": [
    "def parse_interactome(file_path):\n",
    "    interactome_data = {}\n",
    "    with open(file_path, 'r') as file:\n",
    "        next(file)  # Skip the header line\n",
    "        for line in file:\n",
    "            tail, head, edge_weight, _ = line.strip().split('\\t')\n",
    "            edge_weight = float(edge_weight)\n",
    "            if tail not in interactome_data:\n",
    "                interactome_data[tail] = []\n",
    "            interactome_data[tail].append((head, edge_weight))\n",
    "    return interactome_data"
   ]
  },
  {
   "cell_type": "code",
   "execution_count": 268,
   "metadata": {},
   "outputs": [],
   "source": [
    "def list_connected_proteins(file_path, protein):\n",
    "    interactome_data = parse_interactome(file_path)\n",
    "    connected_proteins = interactome_data.get(protein, [])\n",
    "    with open(f\"{protein}_connected_proteins.txt\", 'w') as output_file:\n",
    "        # degree of protein: number of connections\n",
    "        output_file.write(f\"Degree of {protein}: {len(connected_proteins)}\\n\")\n",
    "        for connected_protein, weight in connected_proteins:\n",
    "            output_file.write(f\"{connected_protein}\\t{weight}\\n\")"
   ]
  },
  {
   "cell_type": "code",
   "execution_count": 269,
   "metadata": {},
   "outputs": [],
   "source": [
    "def get_gene_name_from_uniprot(uniprot_ids):\n",
    "    Entrez.email = \"asmaa.abdelhamid02@eng-st.cu.edu.eg\"  \n",
    "    gene_names = {}\n",
    "    for uniprot_id in uniprot_ids:\n",
    "        handle = Entrez.efetch(db=\"protein\", id=uniprot_id, rettype=\"fasta\", retmode=\"text\")\n",
    "        fasta_record = handle.read()\n",
    "        handle.close()\n",
    "        # Split the header line by \"|\" and take the second component\n",
    "        gene_name = fasta_record.split(\"|\")[2]\n",
    "        # Extract only the gene name portion by splitting with a space and taking the first part\n",
    "        gene_name = gene_name.split(\" \")[0]\n",
    "        gene_names[uniprot_id] = gene_name\n",
    "    return gene_names\n",
    "\n",
    "\n"
   ]
  },
  {
   "cell_type": "code",
   "execution_count": 270,
   "metadata": {},
   "outputs": [
    {
     "name": "stdout",
     "output_type": "stream",
     "text": [
      "Gene name for P05067: A4_HUMAN\n",
      "Gene name for Q8TBF4: ZCRB1_HUMAN\n"
     ]
    }
   ],
   "source": [
    "\n",
    "# Main code\n",
    "\n",
    "file_path = \"PathLinker_2018_human-ppi-weighted-cap0_75.txt\"\n",
    "UniProt_ID = \"P05067\"\n",
    "# UniProt_ID = [\"P05067\", \"Q8TBF4\"]\n",
    "interactome_data = parse_interactome(file_path) \n",
    "list_connected_proteins (file_path, UniProt_ID)\n",
    "gene_name = get_gene_name_from_uniprot(UniProt_ID)\n",
    "for uniprot_id, gene_name in gene_name.items():\n",
    "  print(f\"Gene name for {uniprot_id}: {gene_name}\")\n"
   ]
  }
 ],
 "metadata": {
  "kernelspec": {
   "display_name": "Python 3",
   "language": "python",
   "name": "python3"
  },
  "language_info": {
   "codemirror_mode": {
    "name": "ipython",
    "version": 3
   },
   "file_extension": ".py",
   "mimetype": "text/x-python",
   "name": "python",
   "nbconvert_exporter": "python",
   "pygments_lexer": "ipython3",
   "version": "3.11.4"
  }
 },
 "nbformat": 4,
 "nbformat_minor": 2
}
