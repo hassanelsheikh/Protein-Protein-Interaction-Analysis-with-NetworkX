{
 "cells": [
  {
   "cell_type": "code",
   "execution_count": 3,
   "metadata": {},
   "outputs": [
    {
     "ename": "ModuleNotFoundError",
     "evalue": "No module named 'networkx'",
     "output_type": "error",
     "traceback": [
      "\u001b[0;31m---------------------------------------------------------------------------\u001b[0m",
      "\u001b[0;31mModuleNotFoundError\u001b[0m                       Traceback (most recent call last)",
      "Cell \u001b[0;32mIn[3], line 1\u001b[0m\n\u001b[0;32m----> 1\u001b[0m \u001b[38;5;28;01mimport\u001b[39;00m \u001b[38;5;21;01mnetworkx\u001b[39;00m \u001b[38;5;28;01mas\u001b[39;00m \u001b[38;5;21;01mnx\u001b[39;00m\n\u001b[1;32m      2\u001b[0m \u001b[38;5;28;01mimport\u001b[39;00m \u001b[38;5;21;01mmatplotlib\u001b[39;00m\u001b[38;5;21;01m.\u001b[39;00m\u001b[38;5;21;01mpyplot\u001b[39;00m \u001b[38;5;28;01mas\u001b[39;00m \u001b[38;5;21;01mplt\u001b[39;00m\n",
      "\u001b[0;31mModuleNotFoundError\u001b[0m: No module named 'networkx'"
     ]
    }
   ],
   "source": [
    "import networkx as nx\n",
    "import matplotlib.pyplot as plt"
   ]
  },
  {
   "cell_type": "code",
   "execution_count": null,
   "metadata": {},
   "outputs": [],
   "source": [
    "# Function to parse interactome data from a file\n",
    "def parse_interactome(file_path):\n",
    "    # Dictionary to store interactome data\n",
    "    interactome_data = {}\n",
    "    with open(file_path, 'r') as file:\n",
    "        next(file)  # Skip the header line\n",
    "        # Iterate over each line in the file\n",
    "        for line in file:\n",
    "            # Split the line into components: tail, head, edge_weight\n",
    "            tail, head, edge_weight, _ = line.strip().split('\\t')\n",
    "            # Convert edge weight to float\n",
    "            edge_weight = float(edge_weight)\n",
    "            # If tail is not in interactome_data, create an empty list\n",
    "            if tail not in interactome_data:\n",
    "                interactome_data[tail] = []\n",
    "            # Append (head, edge_weight) tuple to the list corresponding to tail\n",
    "            interactome_data[tail].append((head, edge_weight))\n",
    "    return interactome_data"
   ]
  },
  {
   "cell_type": "code",
   "execution_count": null,
   "metadata": {},
   "outputs": [],
   "source": [
    "# Load the interactome data from file\n",
    "interactome_data = parse_interactome('PathLinker_2018_human-ppi-weighted-cap0_75.txt')\n"
   ]
  },
  {
   "cell_type": "code",
   "execution_count": null,
   "metadata": {},
   "outputs": [],
   "source": [
    "# Create a directed graph from the loaded interactome data\n",
    "G = nx.DiGraph()\n",
    "for tail, interactions in interactome_data.items():\n",
    "    for head, weight in interactions:\n",
    "        G.add_edge(tail, head, weight=weight)"
   ]
  },
  {
   "cell_type": "code",
   "execution_count": null,
   "metadata": {},
   "outputs": [],
   "source": [
    "# Compute the degree of each node in the graph\n",
    "degrees = dict(G.degree())"
   ]
  },
  {
   "cell_type": "code",
   "execution_count": null,
   "metadata": {},
   "outputs": [],
   "source": [
    "# Plot a histogram of protein degrees\n",
    "plt.hist(degrees.values(), bins=50, color='blue', edgecolor='black')\n",
    "plt.title('Histogram of Protein Degrees')\n",
    "plt.xlabel('Degree')\n",
    "plt.ylabel('Number of Proteins')\n",
    "plt.show()"
   ]
  },
  {
   "cell_type": "code",
   "execution_count": null,
   "metadata": {},
   "outputs": [],
   "source": [
    "# Sort proteins by their degree\n",
    "sorted_proteins = sorted(degrees.items(), key=lambda x: x[1], reverse=True)\n"
   ]
  },
  {
   "cell_type": "code",
   "execution_count": null,
   "metadata": {},
   "outputs": [],
   "source": [
    "# Write the sorted list of proteins and their degrees to a file\n",
    "with open('protein_degrees_ranked.txt', 'w') as f:\n",
    "    for protein, degree in sorted_proteins:\n",
    "        f.write(f\"{protein}\\t{degree}\\n\")"
   ]
  }
 ],
 "metadata": {
  "kernelspec": {
   "display_name": "Python 3",
   "language": "python",
   "name": "python3"
  },
  "language_info": {
   "codemirror_mode": {
    "name": "ipython",
    "version": 3
   },
   "file_extension": ".py",
   "mimetype": "text/x-python",
   "name": "python",
   "nbconvert_exporter": "python",
   "pygments_lexer": "ipython3",
   "version": "3.11.3"
  }
 },
 "nbformat": 4,
 "nbformat_minor": 2
}
